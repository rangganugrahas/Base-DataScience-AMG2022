{
  "nbformat": 4,
  "nbformat_minor": 0,
  "metadata": {
    "colab": {
      "provenance": []
    },
    "kernelspec": {
      "name": "python3",
      "display_name": "Python 3"
    },
    "language_info": {
      "name": "python"
    }
  },
  "cells": [
    {
      "cell_type": "code",
      "execution_count": null,
      "metadata": {
        "id": "_OxQbeR5eiOG"
      },
      "outputs": [],
      "source": [
        "import matplotlib.pyplot as plt\n",
        "import statistics\n",
        "import pandas as pd\n",
        "import numpy as np\n",
        "from scipy import stats"
      ]
    },
    {
      "cell_type": "code",
      "source": [
        "import pandas as pd\n",
        "from google.colab import drive #memanggil package import drive\n",
        "drive.mount('/content/drive')"
      ],
      "metadata": {
        "colab": {
          "base_uri": "https://localhost:8080/"
        },
        "id": "8jThz-rpezdO",
        "outputId": "11fdec26-f45d-4780-d041-98fa5c06bbc9"
      },
      "execution_count": null,
      "outputs": [
        {
          "output_type": "stream",
          "name": "stdout",
          "text": [
            "Mounted at /content/drive\n"
          ]
        }
      ]
    },
    {
      "cell_type": "code",
      "source": [
        "path = '/content/drive/MyDrive/CSV/soal6 - Sheet1.csv'\n",
        "df = pd.read_csv(path)\n",
        "df.describe()"
      ],
      "metadata": {
        "colab": {
          "base_uri": "https://localhost:8080/",
          "height": 300
        },
        "id": "XKtTuIgMmmy-",
        "outputId": "52a477d9-ca4e-4d69-b2ae-35c9a59234ca"
      },
      "execution_count": null,
      "outputs": [
        {
          "output_type": "execute_result",
          "data": {
            "text/plain": [
              "       Jumlah RW  Jumlah Kepala Keluarga  Rata2 Usia  Keluarga\n",
              "count  50.000000               50.000000             50.000000\n",
              "mean    9.920000               32.180000             38.978000\n",
              "std     4.810024               11.910705             10.041695\n",
              "min     2.000000               13.000000             24.900000\n",
              "25%     5.250000               24.000000             30.325000\n",
              "50%    10.000000               29.500000             36.650000\n",
              "75%    13.750000               40.750000             45.625000\n",
              "max    20.000000               59.000000             59.400000"
            ],
            "text/html": [
              "\n",
              "  <div id=\"df-8ce435cd-1dd0-475c-b1b1-b53237d68914\">\n",
              "    <div class=\"colab-df-container\">\n",
              "      <div>\n",
              "<style scoped>\n",
              "    .dataframe tbody tr th:only-of-type {\n",
              "        vertical-align: middle;\n",
              "    }\n",
              "\n",
              "    .dataframe tbody tr th {\n",
              "        vertical-align: top;\n",
              "    }\n",
              "\n",
              "    .dataframe thead th {\n",
              "        text-align: right;\n",
              "    }\n",
              "</style>\n",
              "<table border=\"1\" class=\"dataframe\">\n",
              "  <thead>\n",
              "    <tr style=\"text-align: right;\">\n",
              "      <th></th>\n",
              "      <th>Jumlah RW</th>\n",
              "      <th>Jumlah Kepala Keluarga</th>\n",
              "      <th>Rata2 Usia  Keluarga</th>\n",
              "    </tr>\n",
              "  </thead>\n",
              "  <tbody>\n",
              "    <tr>\n",
              "      <th>count</th>\n",
              "      <td>50.000000</td>\n",
              "      <td>50.000000</td>\n",
              "      <td>50.000000</td>\n",
              "    </tr>\n",
              "    <tr>\n",
              "      <th>mean</th>\n",
              "      <td>9.920000</td>\n",
              "      <td>32.180000</td>\n",
              "      <td>38.978000</td>\n",
              "    </tr>\n",
              "    <tr>\n",
              "      <th>std</th>\n",
              "      <td>4.810024</td>\n",
              "      <td>11.910705</td>\n",
              "      <td>10.041695</td>\n",
              "    </tr>\n",
              "    <tr>\n",
              "      <th>min</th>\n",
              "      <td>2.000000</td>\n",
              "      <td>13.000000</td>\n",
              "      <td>24.900000</td>\n",
              "    </tr>\n",
              "    <tr>\n",
              "      <th>25%</th>\n",
              "      <td>5.250000</td>\n",
              "      <td>24.000000</td>\n",
              "      <td>30.325000</td>\n",
              "    </tr>\n",
              "    <tr>\n",
              "      <th>50%</th>\n",
              "      <td>10.000000</td>\n",
              "      <td>29.500000</td>\n",
              "      <td>36.650000</td>\n",
              "    </tr>\n",
              "    <tr>\n",
              "      <th>75%</th>\n",
              "      <td>13.750000</td>\n",
              "      <td>40.750000</td>\n",
              "      <td>45.625000</td>\n",
              "    </tr>\n",
              "    <tr>\n",
              "      <th>max</th>\n",
              "      <td>20.000000</td>\n",
              "      <td>59.000000</td>\n",
              "      <td>59.400000</td>\n",
              "    </tr>\n",
              "  </tbody>\n",
              "</table>\n",
              "</div>\n",
              "      <button class=\"colab-df-convert\" onclick=\"convertToInteractive('df-8ce435cd-1dd0-475c-b1b1-b53237d68914')\"\n",
              "              title=\"Convert this dataframe to an interactive table.\"\n",
              "              style=\"display:none;\">\n",
              "        \n",
              "  <svg xmlns=\"http://www.w3.org/2000/svg\" height=\"24px\"viewBox=\"0 0 24 24\"\n",
              "       width=\"24px\">\n",
              "    <path d=\"M0 0h24v24H0V0z\" fill=\"none\"/>\n",
              "    <path d=\"M18.56 5.44l.94 2.06.94-2.06 2.06-.94-2.06-.94-.94-2.06-.94 2.06-2.06.94zm-11 1L8.5 8.5l.94-2.06 2.06-.94-2.06-.94L8.5 2.5l-.94 2.06-2.06.94zm10 10l.94 2.06.94-2.06 2.06-.94-2.06-.94-.94-2.06-.94 2.06-2.06.94z\"/><path d=\"M17.41 7.96l-1.37-1.37c-.4-.4-.92-.59-1.43-.59-.52 0-1.04.2-1.43.59L10.3 9.45l-7.72 7.72c-.78.78-.78 2.05 0 2.83L4 21.41c.39.39.9.59 1.41.59.51 0 1.02-.2 1.41-.59l7.78-7.78 2.81-2.81c.8-.78.8-2.07 0-2.86zM5.41 20L4 18.59l7.72-7.72 1.47 1.35L5.41 20z\"/>\n",
              "  </svg>\n",
              "      </button>\n",
              "      \n",
              "  <style>\n",
              "    .colab-df-container {\n",
              "      display:flex;\n",
              "      flex-wrap:wrap;\n",
              "      gap: 12px;\n",
              "    }\n",
              "\n",
              "    .colab-df-convert {\n",
              "      background-color: #E8F0FE;\n",
              "      border: none;\n",
              "      border-radius: 50%;\n",
              "      cursor: pointer;\n",
              "      display: none;\n",
              "      fill: #1967D2;\n",
              "      height: 32px;\n",
              "      padding: 0 0 0 0;\n",
              "      width: 32px;\n",
              "    }\n",
              "\n",
              "    .colab-df-convert:hover {\n",
              "      background-color: #E2EBFA;\n",
              "      box-shadow: 0px 1px 2px rgba(60, 64, 67, 0.3), 0px 1px 3px 1px rgba(60, 64, 67, 0.15);\n",
              "      fill: #174EA6;\n",
              "    }\n",
              "\n",
              "    [theme=dark] .colab-df-convert {\n",
              "      background-color: #3B4455;\n",
              "      fill: #D2E3FC;\n",
              "    }\n",
              "\n",
              "    [theme=dark] .colab-df-convert:hover {\n",
              "      background-color: #434B5C;\n",
              "      box-shadow: 0px 1px 3px 1px rgba(0, 0, 0, 0.15);\n",
              "      filter: drop-shadow(0px 1px 2px rgba(0, 0, 0, 0.3));\n",
              "      fill: #FFFFFF;\n",
              "    }\n",
              "  </style>\n",
              "\n",
              "      <script>\n",
              "        const buttonEl =\n",
              "          document.querySelector('#df-8ce435cd-1dd0-475c-b1b1-b53237d68914 button.colab-df-convert');\n",
              "        buttonEl.style.display =\n",
              "          google.colab.kernel.accessAllowed ? 'block' : 'none';\n",
              "\n",
              "        async function convertToInteractive(key) {\n",
              "          const element = document.querySelector('#df-8ce435cd-1dd0-475c-b1b1-b53237d68914');\n",
              "          const dataTable =\n",
              "            await google.colab.kernel.invokeFunction('convertToInteractive',\n",
              "                                                     [key], {});\n",
              "          if (!dataTable) return;\n",
              "\n",
              "          const docLinkHtml = 'Like what you see? Visit the ' +\n",
              "            '<a target=\"_blank\" href=https://colab.research.google.com/notebooks/data_table.ipynb>data table notebook</a>'\n",
              "            + ' to learn more about interactive tables.';\n",
              "          element.innerHTML = '';\n",
              "          dataTable['output_type'] = 'display_data';\n",
              "          await google.colab.output.renderOutput(dataTable, element);\n",
              "          const docLink = document.createElement('div');\n",
              "          docLink.innerHTML = docLinkHtml;\n",
              "          element.appendChild(docLink);\n",
              "        }\n",
              "      </script>\n",
              "    </div>\n",
              "  </div>\n",
              "  "
            ]
          },
          "metadata": {},
          "execution_count": 27
        }
      ]
    },
    {
      "cell_type": "code",
      "source": [
        "df\n"
      ],
      "metadata": {
        "colab": {
          "base_uri": "https://localhost:8080/",
          "height": 1000
        },
        "id": "im_6mxUEr5Z5",
        "outputId": "6c85c622-2334-4211-cda6-730048c1c44f"
      },
      "execution_count": null,
      "outputs": [
        {
          "output_type": "execute_result",
          "data": {
            "text/plain": [
              "   Daerah  Jumlah RW  Jumlah Kepala Keluarga  Rata2 Usia  Keluarga  \\\n",
              "0       A          5                      20                  36.5   \n",
              "1       B          4                      18                  42.9   \n",
              "2       C          9                      30                  51.6   \n",
              "3       D         12                      42                  41.5   \n",
              "4       B          4                      50                  32.6   \n",
              "5       F         15                      16                  28.9   \n",
              "6       D         18                      28                  27.5   \n",
              "7       E         11                      36                  36.4   \n",
              "8       F         10                      28                  45.7   \n",
              "9       A          8                      52                  54.6   \n",
              "10      B         14                      43                  29.5   \n",
              "11      F         13                      13                  41.8   \n",
              "12      D         10                      25                  33.5   \n",
              "13      F          8                      30                  27.9   \n",
              "14      E          5                      27                  57.6   \n",
              "15      C          4                      48                  25.7   \n",
              "16      D          6                      45                  34.9   \n",
              "17      B          7                      35                  42.9   \n",
              "18      E          8                      26                  55.8   \n",
              "19      E         11                      18                  32.5   \n",
              "20      F         14                      39                  40.5   \n",
              "21      E         16                      29                  38.5   \n",
              "22      C          4                      24                  24.9   \n",
              "23      D         16                      29                  29.8   \n",
              "24      A         14                      16                  41.8   \n",
              "25      A          7                      58                  35.7   \n",
              "26      E         12                      41                  56.8   \n",
              "27      B          9                      21                  59.4   \n",
              "28      B         18                      34                  51.5   \n",
              "29      D         20                      24                  46.8   \n",
              "30      B         15                      46                  25.6   \n",
              "31      F         13                      33                  37.4   \n",
              "32      E          4                      17                  29.6   \n",
              "33      D          2                      26                  48.9   \n",
              "34      A          3                      39                  54.9   \n",
              "35      C         15                      42                  35.7   \n",
              "36      E         10                      28                  24.9   \n",
              "37      F          9                      34                  42.9   \n",
              "38      E         12                      55                  25.8   \n",
              "39      D          5                      59                  50.8   \n",
              "40      E          6                      40                  31.9   \n",
              "41      D          3                      20                  35.8   \n",
              "42      F         12                      23                  28.6   \n",
              "43      A         19                      15                  52.6   \n",
              "44      A         17                      35                  45.4   \n",
              "45      B          9                      28                  35.8   \n",
              "46      D         11                      30                  40.8   \n",
              "47      D          5                      18                  36.8   \n",
              "48      F          4                      29                  24.9   \n",
              "49      E         10                      47                  33.8   \n",
              "\n",
              "   Nominal Bantuan  \n",
              "0          600.000  \n",
              "1        1.200.000  \n",
              "2          800.000  \n",
              "3        1.200.000  \n",
              "4        1.500.000  \n",
              "5        1.000.000  \n",
              "6          600.000  \n",
              "7          800.000  \n",
              "8        1.200.000  \n",
              "9        1.500.000  \n",
              "10         800.000  \n",
              "11         600.000  \n",
              "12       1.000.000  \n",
              "13         800.000  \n",
              "14       1.000.000  \n",
              "15         800.000  \n",
              "16       1.500.000  \n",
              "17         800.000  \n",
              "18         600.000  \n",
              "19         600.000  \n",
              "20         800.000  \n",
              "21       1.500.000  \n",
              "22         600.000  \n",
              "23       1.500.000  \n",
              "24       1.000.000  \n",
              "25         800.000  \n",
              "26       1.200.000  \n",
              "27         600.000  \n",
              "28       1.500.000  \n",
              "29       1.200.000  \n",
              "30       1.000.000  \n",
              "31         600.000  \n",
              "32       1.200.000  \n",
              "33       1.000.000  \n",
              "34       1.200.000  \n",
              "35         800.000  \n",
              "36       1.000.000  \n",
              "37       1.200.000  \n",
              "38         800.000  \n",
              "39       1.200.000  \n",
              "40         800.000  \n",
              "41       1.500.000  \n",
              "42         600.000  \n",
              "43       1.200.000  \n",
              "44       1.000.000  \n",
              "45       1.200.000  \n",
              "46         800.000  \n",
              "47       1.500.000  \n",
              "48       1.000.000  \n",
              "49         600.000  "
            ],
            "text/html": [
              "\n",
              "  <div id=\"df-a9a620af-68b9-4b08-97e4-39ebfd90b877\">\n",
              "    <div class=\"colab-df-container\">\n",
              "      <div>\n",
              "<style scoped>\n",
              "    .dataframe tbody tr th:only-of-type {\n",
              "        vertical-align: middle;\n",
              "    }\n",
              "\n",
              "    .dataframe tbody tr th {\n",
              "        vertical-align: top;\n",
              "    }\n",
              "\n",
              "    .dataframe thead th {\n",
              "        text-align: right;\n",
              "    }\n",
              "</style>\n",
              "<table border=\"1\" class=\"dataframe\">\n",
              "  <thead>\n",
              "    <tr style=\"text-align: right;\">\n",
              "      <th></th>\n",
              "      <th>Daerah</th>\n",
              "      <th>Jumlah RW</th>\n",
              "      <th>Jumlah Kepala Keluarga</th>\n",
              "      <th>Rata2 Usia  Keluarga</th>\n",
              "      <th>Nominal Bantuan</th>\n",
              "    </tr>\n",
              "  </thead>\n",
              "  <tbody>\n",
              "    <tr>\n",
              "      <th>0</th>\n",
              "      <td>A</td>\n",
              "      <td>5</td>\n",
              "      <td>20</td>\n",
              "      <td>36.5</td>\n",
              "      <td>600.000</td>\n",
              "    </tr>\n",
              "    <tr>\n",
              "      <th>1</th>\n",
              "      <td>B</td>\n",
              "      <td>4</td>\n",
              "      <td>18</td>\n",
              "      <td>42.9</td>\n",
              "      <td>1.200.000</td>\n",
              "    </tr>\n",
              "    <tr>\n",
              "      <th>2</th>\n",
              "      <td>C</td>\n",
              "      <td>9</td>\n",
              "      <td>30</td>\n",
              "      <td>51.6</td>\n",
              "      <td>800.000</td>\n",
              "    </tr>\n",
              "    <tr>\n",
              "      <th>3</th>\n",
              "      <td>D</td>\n",
              "      <td>12</td>\n",
              "      <td>42</td>\n",
              "      <td>41.5</td>\n",
              "      <td>1.200.000</td>\n",
              "    </tr>\n",
              "    <tr>\n",
              "      <th>4</th>\n",
              "      <td>B</td>\n",
              "      <td>4</td>\n",
              "      <td>50</td>\n",
              "      <td>32.6</td>\n",
              "      <td>1.500.000</td>\n",
              "    </tr>\n",
              "    <tr>\n",
              "      <th>5</th>\n",
              "      <td>F</td>\n",
              "      <td>15</td>\n",
              "      <td>16</td>\n",
              "      <td>28.9</td>\n",
              "      <td>1.000.000</td>\n",
              "    </tr>\n",
              "    <tr>\n",
              "      <th>6</th>\n",
              "      <td>D</td>\n",
              "      <td>18</td>\n",
              "      <td>28</td>\n",
              "      <td>27.5</td>\n",
              "      <td>600.000</td>\n",
              "    </tr>\n",
              "    <tr>\n",
              "      <th>7</th>\n",
              "      <td>E</td>\n",
              "      <td>11</td>\n",
              "      <td>36</td>\n",
              "      <td>36.4</td>\n",
              "      <td>800.000</td>\n",
              "    </tr>\n",
              "    <tr>\n",
              "      <th>8</th>\n",
              "      <td>F</td>\n",
              "      <td>10</td>\n",
              "      <td>28</td>\n",
              "      <td>45.7</td>\n",
              "      <td>1.200.000</td>\n",
              "    </tr>\n",
              "    <tr>\n",
              "      <th>9</th>\n",
              "      <td>A</td>\n",
              "      <td>8</td>\n",
              "      <td>52</td>\n",
              "      <td>54.6</td>\n",
              "      <td>1.500.000</td>\n",
              "    </tr>\n",
              "    <tr>\n",
              "      <th>10</th>\n",
              "      <td>B</td>\n",
              "      <td>14</td>\n",
              "      <td>43</td>\n",
              "      <td>29.5</td>\n",
              "      <td>800.000</td>\n",
              "    </tr>\n",
              "    <tr>\n",
              "      <th>11</th>\n",
              "      <td>F</td>\n",
              "      <td>13</td>\n",
              "      <td>13</td>\n",
              "      <td>41.8</td>\n",
              "      <td>600.000</td>\n",
              "    </tr>\n",
              "    <tr>\n",
              "      <th>12</th>\n",
              "      <td>D</td>\n",
              "      <td>10</td>\n",
              "      <td>25</td>\n",
              "      <td>33.5</td>\n",
              "      <td>1.000.000</td>\n",
              "    </tr>\n",
              "    <tr>\n",
              "      <th>13</th>\n",
              "      <td>F</td>\n",
              "      <td>8</td>\n",
              "      <td>30</td>\n",
              "      <td>27.9</td>\n",
              "      <td>800.000</td>\n",
              "    </tr>\n",
              "    <tr>\n",
              "      <th>14</th>\n",
              "      <td>E</td>\n",
              "      <td>5</td>\n",
              "      <td>27</td>\n",
              "      <td>57.6</td>\n",
              "      <td>1.000.000</td>\n",
              "    </tr>\n",
              "    <tr>\n",
              "      <th>15</th>\n",
              "      <td>C</td>\n",
              "      <td>4</td>\n",
              "      <td>48</td>\n",
              "      <td>25.7</td>\n",
              "      <td>800.000</td>\n",
              "    </tr>\n",
              "    <tr>\n",
              "      <th>16</th>\n",
              "      <td>D</td>\n",
              "      <td>6</td>\n",
              "      <td>45</td>\n",
              "      <td>34.9</td>\n",
              "      <td>1.500.000</td>\n",
              "    </tr>\n",
              "    <tr>\n",
              "      <th>17</th>\n",
              "      <td>B</td>\n",
              "      <td>7</td>\n",
              "      <td>35</td>\n",
              "      <td>42.9</td>\n",
              "      <td>800.000</td>\n",
              "    </tr>\n",
              "    <tr>\n",
              "      <th>18</th>\n",
              "      <td>E</td>\n",
              "      <td>8</td>\n",
              "      <td>26</td>\n",
              "      <td>55.8</td>\n",
              "      <td>600.000</td>\n",
              "    </tr>\n",
              "    <tr>\n",
              "      <th>19</th>\n",
              "      <td>E</td>\n",
              "      <td>11</td>\n",
              "      <td>18</td>\n",
              "      <td>32.5</td>\n",
              "      <td>600.000</td>\n",
              "    </tr>\n",
              "    <tr>\n",
              "      <th>20</th>\n",
              "      <td>F</td>\n",
              "      <td>14</td>\n",
              "      <td>39</td>\n",
              "      <td>40.5</td>\n",
              "      <td>800.000</td>\n",
              "    </tr>\n",
              "    <tr>\n",
              "      <th>21</th>\n",
              "      <td>E</td>\n",
              "      <td>16</td>\n",
              "      <td>29</td>\n",
              "      <td>38.5</td>\n",
              "      <td>1.500.000</td>\n",
              "    </tr>\n",
              "    <tr>\n",
              "      <th>22</th>\n",
              "      <td>C</td>\n",
              "      <td>4</td>\n",
              "      <td>24</td>\n",
              "      <td>24.9</td>\n",
              "      <td>600.000</td>\n",
              "    </tr>\n",
              "    <tr>\n",
              "      <th>23</th>\n",
              "      <td>D</td>\n",
              "      <td>16</td>\n",
              "      <td>29</td>\n",
              "      <td>29.8</td>\n",
              "      <td>1.500.000</td>\n",
              "    </tr>\n",
              "    <tr>\n",
              "      <th>24</th>\n",
              "      <td>A</td>\n",
              "      <td>14</td>\n",
              "      <td>16</td>\n",
              "      <td>41.8</td>\n",
              "      <td>1.000.000</td>\n",
              "    </tr>\n",
              "    <tr>\n",
              "      <th>25</th>\n",
              "      <td>A</td>\n",
              "      <td>7</td>\n",
              "      <td>58</td>\n",
              "      <td>35.7</td>\n",
              "      <td>800.000</td>\n",
              "    </tr>\n",
              "    <tr>\n",
              "      <th>26</th>\n",
              "      <td>E</td>\n",
              "      <td>12</td>\n",
              "      <td>41</td>\n",
              "      <td>56.8</td>\n",
              "      <td>1.200.000</td>\n",
              "    </tr>\n",
              "    <tr>\n",
              "      <th>27</th>\n",
              "      <td>B</td>\n",
              "      <td>9</td>\n",
              "      <td>21</td>\n",
              "      <td>59.4</td>\n",
              "      <td>600.000</td>\n",
              "    </tr>\n",
              "    <tr>\n",
              "      <th>28</th>\n",
              "      <td>B</td>\n",
              "      <td>18</td>\n",
              "      <td>34</td>\n",
              "      <td>51.5</td>\n",
              "      <td>1.500.000</td>\n",
              "    </tr>\n",
              "    <tr>\n",
              "      <th>29</th>\n",
              "      <td>D</td>\n",
              "      <td>20</td>\n",
              "      <td>24</td>\n",
              "      <td>46.8</td>\n",
              "      <td>1.200.000</td>\n",
              "    </tr>\n",
              "    <tr>\n",
              "      <th>30</th>\n",
              "      <td>B</td>\n",
              "      <td>15</td>\n",
              "      <td>46</td>\n",
              "      <td>25.6</td>\n",
              "      <td>1.000.000</td>\n",
              "    </tr>\n",
              "    <tr>\n",
              "      <th>31</th>\n",
              "      <td>F</td>\n",
              "      <td>13</td>\n",
              "      <td>33</td>\n",
              "      <td>37.4</td>\n",
              "      <td>600.000</td>\n",
              "    </tr>\n",
              "    <tr>\n",
              "      <th>32</th>\n",
              "      <td>E</td>\n",
              "      <td>4</td>\n",
              "      <td>17</td>\n",
              "      <td>29.6</td>\n",
              "      <td>1.200.000</td>\n",
              "    </tr>\n",
              "    <tr>\n",
              "      <th>33</th>\n",
              "      <td>D</td>\n",
              "      <td>2</td>\n",
              "      <td>26</td>\n",
              "      <td>48.9</td>\n",
              "      <td>1.000.000</td>\n",
              "    </tr>\n",
              "    <tr>\n",
              "      <th>34</th>\n",
              "      <td>A</td>\n",
              "      <td>3</td>\n",
              "      <td>39</td>\n",
              "      <td>54.9</td>\n",
              "      <td>1.200.000</td>\n",
              "    </tr>\n",
              "    <tr>\n",
              "      <th>35</th>\n",
              "      <td>C</td>\n",
              "      <td>15</td>\n",
              "      <td>42</td>\n",
              "      <td>35.7</td>\n",
              "      <td>800.000</td>\n",
              "    </tr>\n",
              "    <tr>\n",
              "      <th>36</th>\n",
              "      <td>E</td>\n",
              "      <td>10</td>\n",
              "      <td>28</td>\n",
              "      <td>24.9</td>\n",
              "      <td>1.000.000</td>\n",
              "    </tr>\n",
              "    <tr>\n",
              "      <th>37</th>\n",
              "      <td>F</td>\n",
              "      <td>9</td>\n",
              "      <td>34</td>\n",
              "      <td>42.9</td>\n",
              "      <td>1.200.000</td>\n",
              "    </tr>\n",
              "    <tr>\n",
              "      <th>38</th>\n",
              "      <td>E</td>\n",
              "      <td>12</td>\n",
              "      <td>55</td>\n",
              "      <td>25.8</td>\n",
              "      <td>800.000</td>\n",
              "    </tr>\n",
              "    <tr>\n",
              "      <th>39</th>\n",
              "      <td>D</td>\n",
              "      <td>5</td>\n",
              "      <td>59</td>\n",
              "      <td>50.8</td>\n",
              "      <td>1.200.000</td>\n",
              "    </tr>\n",
              "    <tr>\n",
              "      <th>40</th>\n",
              "      <td>E</td>\n",
              "      <td>6</td>\n",
              "      <td>40</td>\n",
              "      <td>31.9</td>\n",
              "      <td>800.000</td>\n",
              "    </tr>\n",
              "    <tr>\n",
              "      <th>41</th>\n",
              "      <td>D</td>\n",
              "      <td>3</td>\n",
              "      <td>20</td>\n",
              "      <td>35.8</td>\n",
              "      <td>1.500.000</td>\n",
              "    </tr>\n",
              "    <tr>\n",
              "      <th>42</th>\n",
              "      <td>F</td>\n",
              "      <td>12</td>\n",
              "      <td>23</td>\n",
              "      <td>28.6</td>\n",
              "      <td>600.000</td>\n",
              "    </tr>\n",
              "    <tr>\n",
              "      <th>43</th>\n",
              "      <td>A</td>\n",
              "      <td>19</td>\n",
              "      <td>15</td>\n",
              "      <td>52.6</td>\n",
              "      <td>1.200.000</td>\n",
              "    </tr>\n",
              "    <tr>\n",
              "      <th>44</th>\n",
              "      <td>A</td>\n",
              "      <td>17</td>\n",
              "      <td>35</td>\n",
              "      <td>45.4</td>\n",
              "      <td>1.000.000</td>\n",
              "    </tr>\n",
              "    <tr>\n",
              "      <th>45</th>\n",
              "      <td>B</td>\n",
              "      <td>9</td>\n",
              "      <td>28</td>\n",
              "      <td>35.8</td>\n",
              "      <td>1.200.000</td>\n",
              "    </tr>\n",
              "    <tr>\n",
              "      <th>46</th>\n",
              "      <td>D</td>\n",
              "      <td>11</td>\n",
              "      <td>30</td>\n",
              "      <td>40.8</td>\n",
              "      <td>800.000</td>\n",
              "    </tr>\n",
              "    <tr>\n",
              "      <th>47</th>\n",
              "      <td>D</td>\n",
              "      <td>5</td>\n",
              "      <td>18</td>\n",
              "      <td>36.8</td>\n",
              "      <td>1.500.000</td>\n",
              "    </tr>\n",
              "    <tr>\n",
              "      <th>48</th>\n",
              "      <td>F</td>\n",
              "      <td>4</td>\n",
              "      <td>29</td>\n",
              "      <td>24.9</td>\n",
              "      <td>1.000.000</td>\n",
              "    </tr>\n",
              "    <tr>\n",
              "      <th>49</th>\n",
              "      <td>E</td>\n",
              "      <td>10</td>\n",
              "      <td>47</td>\n",
              "      <td>33.8</td>\n",
              "      <td>600.000</td>\n",
              "    </tr>\n",
              "  </tbody>\n",
              "</table>\n",
              "</div>\n",
              "      <button class=\"colab-df-convert\" onclick=\"convertToInteractive('df-a9a620af-68b9-4b08-97e4-39ebfd90b877')\"\n",
              "              title=\"Convert this dataframe to an interactive table.\"\n",
              "              style=\"display:none;\">\n",
              "        \n",
              "  <svg xmlns=\"http://www.w3.org/2000/svg\" height=\"24px\"viewBox=\"0 0 24 24\"\n",
              "       width=\"24px\">\n",
              "    <path d=\"M0 0h24v24H0V0z\" fill=\"none\"/>\n",
              "    <path d=\"M18.56 5.44l.94 2.06.94-2.06 2.06-.94-2.06-.94-.94-2.06-.94 2.06-2.06.94zm-11 1L8.5 8.5l.94-2.06 2.06-.94-2.06-.94L8.5 2.5l-.94 2.06-2.06.94zm10 10l.94 2.06.94-2.06 2.06-.94-2.06-.94-.94-2.06-.94 2.06-2.06.94z\"/><path d=\"M17.41 7.96l-1.37-1.37c-.4-.4-.92-.59-1.43-.59-.52 0-1.04.2-1.43.59L10.3 9.45l-7.72 7.72c-.78.78-.78 2.05 0 2.83L4 21.41c.39.39.9.59 1.41.59.51 0 1.02-.2 1.41-.59l7.78-7.78 2.81-2.81c.8-.78.8-2.07 0-2.86zM5.41 20L4 18.59l7.72-7.72 1.47 1.35L5.41 20z\"/>\n",
              "  </svg>\n",
              "      </button>\n",
              "      \n",
              "  <style>\n",
              "    .colab-df-container {\n",
              "      display:flex;\n",
              "      flex-wrap:wrap;\n",
              "      gap: 12px;\n",
              "    }\n",
              "\n",
              "    .colab-df-convert {\n",
              "      background-color: #E8F0FE;\n",
              "      border: none;\n",
              "      border-radius: 50%;\n",
              "      cursor: pointer;\n",
              "      display: none;\n",
              "      fill: #1967D2;\n",
              "      height: 32px;\n",
              "      padding: 0 0 0 0;\n",
              "      width: 32px;\n",
              "    }\n",
              "\n",
              "    .colab-df-convert:hover {\n",
              "      background-color: #E2EBFA;\n",
              "      box-shadow: 0px 1px 2px rgba(60, 64, 67, 0.3), 0px 1px 3px 1px rgba(60, 64, 67, 0.15);\n",
              "      fill: #174EA6;\n",
              "    }\n",
              "\n",
              "    [theme=dark] .colab-df-convert {\n",
              "      background-color: #3B4455;\n",
              "      fill: #D2E3FC;\n",
              "    }\n",
              "\n",
              "    [theme=dark] .colab-df-convert:hover {\n",
              "      background-color: #434B5C;\n",
              "      box-shadow: 0px 1px 3px 1px rgba(0, 0, 0, 0.15);\n",
              "      filter: drop-shadow(0px 1px 2px rgba(0, 0, 0, 0.3));\n",
              "      fill: #FFFFFF;\n",
              "    }\n",
              "  </style>\n",
              "\n",
              "      <script>\n",
              "        const buttonEl =\n",
              "          document.querySelector('#df-a9a620af-68b9-4b08-97e4-39ebfd90b877 button.colab-df-convert');\n",
              "        buttonEl.style.display =\n",
              "          google.colab.kernel.accessAllowed ? 'block' : 'none';\n",
              "\n",
              "        async function convertToInteractive(key) {\n",
              "          const element = document.querySelector('#df-a9a620af-68b9-4b08-97e4-39ebfd90b877');\n",
              "          const dataTable =\n",
              "            await google.colab.kernel.invokeFunction('convertToInteractive',\n",
              "                                                     [key], {});\n",
              "          if (!dataTable) return;\n",
              "\n",
              "          const docLinkHtml = 'Like what you see? Visit the ' +\n",
              "            '<a target=\"_blank\" href=https://colab.research.google.com/notebooks/data_table.ipynb>data table notebook</a>'\n",
              "            + ' to learn more about interactive tables.';\n",
              "          element.innerHTML = '';\n",
              "          dataTable['output_type'] = 'display_data';\n",
              "          await google.colab.output.renderOutput(dataTable, element);\n",
              "          const docLink = document.createElement('div');\n",
              "          docLink.innerHTML = docLinkHtml;\n",
              "          element.appendChild(docLink);\n",
              "        }\n",
              "      </script>\n",
              "    </div>\n",
              "  </div>\n",
              "  "
            ]
          },
          "metadata": {},
          "execution_count": 5
        }
      ]
    },
    {
      "cell_type": "code",
      "source": [
        "df.sum()"
      ],
      "metadata": {
        "colab": {
          "base_uri": "https://localhost:8080/"
        },
        "id": "SPhPpozesL_r",
        "outputId": "792a1f9d-325e-45f2-9f1a-2a1f33523522"
      },
      "execution_count": null,
      "outputs": [
        {
          "output_type": "execute_result",
          "data": {
            "text/plain": [
              "Daerah                    ABCDBFDEFABFDFECDBEEFECDAAEBBDBFEDACEFEDEDFAAB...\n",
              "Jumlah RW                                                               496\n",
              "Jumlah Kepala Keluarga                                                 1609\n",
              "Rata2 Usia  Keluarga                                                 1948.9\n",
              "Nominal Bantuan           600.0001.200.000800.0001.200.0001.500.0001.000...\n",
              "dtype: object"
            ]
          },
          "metadata": {},
          "execution_count": 6
        }
      ]
    },
    {
      "cell_type": "code",
      "source": [
        "from re import A\n",
        "print(\"=======Soal 1========\")\n",
        "a1 = 5\n",
        "a2 = 8\n",
        "a3 = 14\n",
        "a4 = 7\n",
        "a5 = 3\n",
        "a6 = 19\n",
        "a7 = 17\n",
        "a8 = 20\n",
        "a9 = 52\n",
        "a10 = 16\n",
        "a11 = 58\n",
        "a12 = 39\n",
        "a13 = 15\n",
        "a14 = 35\n",
        "hasil2 = a8 + a9 + a10 + a11 + a12 + a13 + a14\n",
        "hasil = a1 + a2 + a3 + a4 + a5 + a6 + a7\n",
        "print(\"jumlah RW di daerah A adalah : \" + str(hasil))\n",
        "print(\"jumlah KK di daerah A adalah : \" + str(hasil2))\n",
        "b1 = 4\n",
        "b2 = 4\n",
        "b3 = 14\n",
        "b4 = 7\n",
        "b5 = 9\n",
        "b6 = 18\n",
        "b7 = 15\n",
        "b16 = 9\n",
        "b8 = 18\n",
        "b9 = 50\n",
        "b10 = 43\n",
        "b11 = 35\n",
        "b12 = 21\n",
        "b13 = 34\n",
        "b14 = 46\n",
        "b15 = 28\n",
        "hsil3 = b1 + b2 + b3 + b4 + b5 + b6 + b7 + b16\n",
        "hasil3 = b8 + b9 + b10 + b11 + b12 + b13 + b14 + b15\n",
        "print(\"jumlah RW di daerah B adalah : \" + str(hsil3))\n",
        "print(\"jumlah KK di daerah B adalah : \" + str(hasil3))\n",
        "c1 = 9\n",
        "c2 = 4\n",
        "c3 = 4\n",
        "c4 = 15\n",
        "c5 = 30\n",
        "c6 = 48\n",
        "c7 = 24\n",
        "c8 = 42\n",
        "hsl4 = c1 + c2 + c3 + c4\n",
        "hasil4 = c5 + c6 + c7 + c8\n",
        "print(\"jumlah RW di daerah C adalah : \" + str(hsl4))\n",
        "print(\"jumlah KK di daerah C adalah : \" + str(hasil4))\n",
        "d1 = 12 \n",
        "d2 = 18\n",
        "d3 = 10\n",
        "d4 = 6\n",
        "d5 = 16\n",
        "d6 = 20\n",
        "d7 = 2\n",
        "d8 = 5\n",
        "d9 = 3\n",
        "d10 = 11\n",
        "d11 = 5\n",
        "d12 = 42\n",
        "d13 = 28\n",
        "d14 = 25\n",
        "d15 = 45\n",
        "d16 = 29\n",
        "d17 = 24\n",
        "d18 = 26\n",
        "d19 = 59\n",
        "d20 = 20\n",
        "d21 = 30\n",
        "d22 = 18\n",
        "hasil5 = d12 + d13 + d14 + d15 + d16 + d17 + d18 + d19 + d20 + d21 + d22\n",
        "hsl5 = d1 + d2 + d3 + d4 + d5 + d6 + d7 + d8 + d9 + d10 + d11\n",
        "print(\"jumlah RW di daerah D adalah : \" + str(hsl5))\n",
        "print(\"jumlah KK di daerah D adalah : \" + str(hasil5))\n",
        "e1 = 11\n",
        "e2 = 5\n",
        "e3 = 8\n",
        "e4 = 11\n",
        "e5 = 16\n",
        "e6 = 12\n",
        "e7 = 4\n",
        "e8 = 10\n",
        "e9 = 12\n",
        "e10 = 6\n",
        "e11 = 10\n",
        "e12 = 36\n",
        "e13 = 27\n",
        "e14 = 26\n",
        "e15 = 18\n",
        "e16 = 29\n",
        "e17 = 41\n",
        "e18 = 17\n",
        "e19 = 28\n",
        "e20 = 55\n",
        "e21 = 40 \n",
        "e22 = 47\n",
        "hsl6 = e1 + e2 + e3 + e4 + e5 + e6 + e7 + e8 + e9 + e10 + e11\n",
        "hasil6 = e12 + e13 + e14 + e15 + e16 + e17 + e18 + e19 + e20 + e21 + e22\n",
        "print(\"jumlah RW di daerah E adalah : \" + str(hsl6))\n",
        "print(\"jumlah KK di daerah E adalah : \" + str(hasil6))\n",
        "\n",
        "\n",
        "fig = plt.figure()\n",
        "ax = fig.add_axes([0,0,1,1])\n",
        "indeks = ['A', 'B', 'C', 'D', 'E']\n",
        "jumlah =[73, 80, 32, 108,  105]\n",
        "c = ['green', 'red', 'yellow', 'purple', 'grey']\n",
        "plt.title(\"Data Jumlah RW disetiap daerah\")\n",
        "plt.xlabel(\"perusahaan\")\n",
        "plt.ylabel(\"nilai\")\n",
        "plt.bar(indeks, jumlah, color = c)\n",
        "plt.grid(True)\n",
        "plt.show\n",
        "\n",
        "import matplotlib.pyplot as plt\n",
        "fig = plt.figure()\n",
        "ax = fig.add_axes([0,0,1,1])\n",
        "ax.axis('equal')\n",
        "plt.title(\"Data jumlah RW disetiap daerah\")\n",
        "nama = ['A', 'B', 'C', 'D', 'E']\n",
        "jml = [73, 80, 32, 108,  105]\n",
        "ax.pie(jml,labels=nama,autopct='%1.2f%%')\n",
        "plt.show()\n",
        "\n",
        "fig = plt.figure()\n",
        "ax = fig.add_axes([0,0,1,1])\n",
        "indeks = ['A', 'B', 'C', 'D', 'E']\n",
        "jumlah =[235, 275, 144, 346,  364]\n",
        "c = ['green', 'red', 'yellow', 'purple', 'grey']\n",
        "plt.title(\"Data Jumlah KK disetiap daerah\")\n",
        "plt.xlabel(\"perusahaan\")\n",
        "plt.ylabel(\"nilai\")\n",
        "plt.bar(indeks, jumlah, color = c)\n",
        "plt.grid(True)\n",
        "plt.show\n",
        "\n",
        "import matplotlib.pyplot as plt\n",
        "fig = plt.figure()\n",
        "ax = fig.add_axes([0,0,1,1])\n",
        "ax.axis('equal')\n",
        "plt.title(\"Data jumlah KK disetiap daerah\")\n",
        "nama = ['A', 'B', 'C', 'D', 'E']\n",
        "jml = [235, 275, 144, 346,  364]\n",
        "ax.pie(jml,labels=nama,autopct='%1.2f%%')\n",
        "plt.show()\n",
        "\n",
        "\n",
        "print(\"=====Soal 2========\")\n",
        "print(\">50\")\n",
        "hsla = 51.6 + 54.6 + 57.6 + 55.8 + 56.8 + 59.4 + 51.5 + 54.9 + 50.8 + 52.6\n",
        "print(\"jumlahnya adalah : \" + str(hsla))\n",
        "print(\">40\")\n",
        "hslb = 42.9 + 41.5 + 45.7 + 41.8 + 42.9 + 40.5 + 41.8 + 46.8 + 48.9 + 42.9 + 45.4 + 40.8\n",
        "print(\"jumlahnya adalah : \" + str(hslb))\n",
        "print(\">30\")\n",
        "hslc = 36.5 + 32.6 + 36.4 + 33.5 + 34.9 + 32.5 + 38.5 + 35.7 + 37.4 + 35.7 + 31.9 + 35.8 + 35.8 + 36.8 + 33.8\n",
        "print(\"jumlahnya adalah : \" + str(hslc))\n",
        "print(\">20\")\n",
        "hsld = 28.9 + 27.5 + 29.5 + 27.9 + 25.7 + 24.9 + 29.8 + 25.6 + 29.6 + 24.9 + 25.8 + 28.6 + 24.9\n",
        "print(\"jumlahnya adalah : \" + str(hsld))\n",
        "\n",
        "fig = plt.figure()\n",
        "ax = fig.add_axes([0,0,1,1])\n",
        "indeks = ['>50', '>40', '>30', '>20']\n",
        "jumlah = [545.6, 521.9, 527.8, 353.6]\n",
        "c = ['green', 'red', 'yellow', 'purple', 'grey']\n",
        "plt.title(\"Data rentang usia adalah \")\n",
        "plt.xlabel(\"perusahaan\")\n",
        "plt.ylabel(\"nilai\")\n",
        "plt.bar(indeks, jumlah, color = c)\n",
        "plt.grid(True)\n",
        "plt.show\n",
        "\n",
        "import matplotlib.pyplot as plt\n",
        "fig = plt.figure()\n",
        "ax = fig.add_axes([0,0,1,1])\n",
        "ax.axis('equal')\n",
        "plt.title(\"Data rentang usia adalah \")\n",
        "nama = ['>50', '>40', '>30', '>20']\n",
        "jml = [545.6, 521.9, 527.8, 353.6]\n",
        "ax.pie(jml,labels=nama,autopct='%1.2f%%')\n",
        "plt.show()\n",
        "\n",
        "print(\"========Soal 3========\")\n",
        "hsle = 5 + 4 + 9 + 4 + 10 + 8 + 10 + 8 + 5 + 4 + 6 + 7 + 8 + 4 + 7 + 9 + 4 + 2 + 3 + 10 + 9 + 5 + 6 + 3 + 9 + 5 + 4 + 10\n",
        "print(\"<10 : \" + str(hsle))\n",
        "hslf = 12 + 15 + 18 + 11 + 14 + 13 + 11 + 14 + 16 + 16  + 14 + 12 + 18 + 20 + 15 + 13 + 15 + 12 + 12 + 19 + 17 + 11\n",
        "print(\">10 : \" + str(hslf))\n",
        "hslg = 600000 + 1200000 + 800000 + 1500000 + 1200000 + 1500000 + 1000000 + 800000 + 1000000 + 800000 + 1500000 + 800000 + 600000 + 600000 + 800000 + 600000 + 1200000 + 1000000 + 1200000 + 1000000 + 1200000 + 1200000 + 800000 + 1500000 + 1200000 + 1500000 + 1000000 + 600000\n",
        "print(\"<10 : \"  + str(hslg))\n",
        "hslh = 1200000 + 1000000 + 600000 + 800000 + 800000 + 600000 + 600000 + 800000 + 1500000 + 1500000 + 1000000 + 1200000 + 1500000 + 1200000 + 1000000 + 600000 + 800000 + 800000 + 600000 + 1200000 + 1000000 + 800000\n",
        "print(\">10 : \" + str(hslh))\n",
        "pajak1 = 0.02 * 5 * 600000\n",
        "pajak2 = 0.03 * 6 * 800000\n",
        "pajak3 = 0.04 * 5 * 1000000\n",
        "pajak4 = 0.05 * 7 * 1200000\n",
        "pajak5 = 0.07 * 5 * 1500000\n",
        "pajakk10 = pajak1 + pajak2 + pajak3 + pajak4 + pajak5\n",
        "print(\"semua pajak < 10 : \" + str(pajakk10))\n",
        "hasil10 = hslg - pajakk10\n",
        "print(\"nominal bantuan < 10 dengan pajak adalah :  \" + str(hasil10))\n",
        "pajaka = 0.02 * (5 * 600000)\n",
        "pajakb = 0.03 * (6 * 800000)\n",
        "pajakc = 0.04 *  (4 * 1000000)\n",
        "pajakd = 0.05 * (4 * 1200000)\n",
        "pajake =0.07 * (3 * 1500000)\n",
        "hasil11 = pajaka + pajakb + pajakc + pajakd + pajake\n",
        "hasilg = hslh - hasil11\n",
        "print(\"semua pajak < 10 : \" + str(hasilg))\n",
        "\n",
        "print()\n",
        "print(\"====Soal 4======\")\n",
        "u50 = 800000 + 1500000 + 1000000 + 600000 + 1200000 + 600000 + 1500000 + 1200000 + 1200000 + 1200000    \n",
        "u40 = 1200000 + 1200000 + 1200000 + 600000 + 800000 + 800000 + 1000000 + 1200000 + 1000000 + 1200000 + 1000000 + 800000\n",
        "u30 = 600000 + 1500000 + 800000 + 1000000 + 1500000 + 600000 + 1500000 + 800000 + 600000 + 800000 + 800000 + 1500000 + 1500000 + 600000\n",
        "u20 = 1000000 + 600000 + 800000 + 800000 + 800000 + 600000 + 1500000 + 1000000 + 1200000 + 1000000 + 800000 + 600000 + 1000000\n",
        "print(\">50 : \" + str(u50))                       \n",
        "print(\">40 : \" + str(u40))                       \n",
        "print(\">30 : \" + str(u30))                       \n",
        "print(\">20 : \" + str(u20)) \n",
        "\n",
        "\n",
        "fig = plt.figure()\n",
        "ax = fig.add_axes([0,0,1,1])\n",
        "indeks = ['>50', '>40', '>30', '>20']\n",
        "jumlah = [10800000, 12000000, 14100000, 11700000]\n",
        "c = ['green', 'red', 'yellow', 'purple', 'grey']\n",
        "plt.title(\"Data rentang usia adalah \")\n",
        "plt.xlabel(\"perusahaan\")\n",
        "plt.ylabel(\"nilai\")\n",
        "plt.bar(indeks, jumlah, color = c)\n",
        "plt.grid(True)\n",
        "plt.show\n",
        "\n",
        "import matplotlib.pyplot as plt\n",
        "fig = plt.figure()\n",
        "ax = fig.add_axes([0,0,1,1])\n",
        "ax.axis('equal')\n",
        "plt.title(\"Data rentang usia adalah \")\n",
        "nama = ['>50', '>40', '>30', '>20']\n",
        "jml =  [10800000, 12000000, 14100000, 11700000]\n",
        "ax.pie(jml,labels=nama,autopct='%1.2f%%')\n",
        "plt.show()\n",
        "\n",
        "print(\"======Soal 5=======\")\n",
        "jn = 600000 + 1200000 + 800000 + 1200000 + 1500000 + 1000000 + 600000 + 800000 + 1200000 + 1500000 + 800000 + 600000 + 1000000 + 800000 + 1000000 + 800000 + 1500000 + 800000 + 600000 + 600000 + 800000 + 1500000 + 600000 + 1500000 + 1000000 + 800000 + 1200000 + 600000 + 1500000 + 1200000 + 1000000 + 600000 + 1200000 + 1000000 + 1200000 + 800000 + 1000000 + 1200000 + 800000 + 1200000 + 800000 + 1500000 + 600000 + 1200000 + 1000000 + 1200000 + 800000 + 1500000 + 1000000 + 600000\n",
        "print(\"nominal bantuan yang diterima tanpa pajak\" + str(jn))\n",
        "pjka = 0.02 * (10 * 600000)\n",
        "pjkb = 0.03 * (12 * 800000)\n",
        "pjkc = 0.04 * (9 * 1000000)\n",
        "pjkd = 0.05 * (10 * 1200000)\n",
        "pjke = 0.07 * (8 *1500000)\n",
        "hsl = pjka + pjkb + pjkc + pjkd + pjke\n",
        "hsl2 = jn - hsl\n",
        "print(\"nominal bantuan yang diterima dengan pajak : \" + str(hsl2))"
      ],
      "metadata": {
        "colab": {
          "base_uri": "https://localhost:8080/",
          "height": 1000
        },
        "id": "pjjk928SugDv",
        "outputId": "58502e98-9ae8-46eb-b92a-0e65dd08c1ba"
      },
      "execution_count": null,
      "outputs": [
        {
          "output_type": "stream",
          "name": "stdout",
          "text": [
            "=======Soal 1========\n",
            "jumlah RW di daerah A adalah : 73\n",
            "jumlah KK di daerah A adalah : 235\n",
            "jumlah RW di daerah B adalah : 80\n",
            "jumlah KK di daerah B adalah : 275\n",
            "jumlah RW di daerah C adalah : 32\n",
            "jumlah KK di daerah C adalah : 144\n",
            "jumlah RW di daerah D adalah : 108\n",
            "jumlah KK di daerah D adalah : 346\n",
            "jumlah RW di daerah E adalah : 105\n",
            "jumlah KK di daerah E adalah : 364\n"
          ]
        },
        {
          "output_type": "display_data",
          "data": {
            "text/plain": [
              "<Figure size 432x288 with 1 Axes>"
            ],
            "image/png": "[encoded data removed]"
          },
          "metadata": {
            "needs_background": "light"
          }
        },
        {
          "output_type": "display_data",
          "data": {
            "text/plain": [
              "<Figure size 432x288 with 1 Axes>"
            ],
            "image/png": "[encoded data removed]"
          },
          "metadata": {}
        },
        {
          "output_type": "display_data",
          "data": {
            "text/plain": [
              "<Figure size 432x288 with 1 Axes>"
            ],
            "image/png": "[encoded data removed]"
          },
          "metadata": {
            "needs_background": "light"
          }
        },
        {
          "output_type": "display_data",
          "data": {
            "text/plain": [
              "<Figure size 432x288 with 1 Axes>"
            ],
            "image/png": "[encoded data removed]"
          },
          "metadata": {}
        },
        {
          "output_type": "stream",
          "name": "stdout",
          "text": [
            "=====Soal 2========\n",
            ">50\n",
            "jumlahnya adalah : 545.6\n",
            ">40\n",
            "jumlahnya adalah : 521.9\n",
            ">30\n",
            "jumlahnya adalah : 527.8\n",
            ">20\n",
            "jumlahnya adalah : 353.6\n"
          ]
        },
        {
          "output_type": "display_data",
          "data": {
            "text/plain": [
              "<Figure size 432x288 with 1 Axes>"
            ],
            "image/png": "[encoded data removed]"
          },
          "metadata": {
            "needs_background": "light"
          }
        },
        {
          "output_type": "display_data",
          "data": {
            "text/plain": [
              "<Figure size 432x288 with 1 Axes>"
            ],
            "image/png": "[encoded data removed]"
          },
          "metadata": {}
        },
        {
          "output_type": "stream",
          "name": "stdout",
          "text": [
            "========Soal 3========\n",
            "<10 : 178\n",
            ">10 : 318\n",
            "<10 : 28700000\n",
            ">10 : 21100000\n",
            "semua pajak < 10 : 1349000.0\n",
            "nominal bantuan < 10 dengan pajak adalah :  27351000.0\n",
            "semua pajak < 10 : 20181000.0\n",
            "\n",
            "====Soal 4======\n",
            ">50 : 10800000\n",
            ">40 : 12000000\n",
            ">30 : 14100000\n",
            ">20 : 11700000\n"
          ]
        },
        {
          "output_type": "display_data",
          "data": {
            "text/plain": [
              "<Figure size 432x288 with 1 Axes>"
            ],
            "image/png": "[encoded data removed]"
          },
          "metadata": {
            "needs_background": "light"
          }
        },
        {
          "output_type": "display_data",
          "data": {
            "text/plain": [
              "<Figure size 432x288 with 1 Axes>"
            ],
            "image/png": "[encoded data removed]"
          },
          "metadata": {}
        },
        {
          "output_type": "stream",
          "name": "stdout",
          "text": [
            "======Soal 5=======\n",
            "nominal bantuan yang diterima tanpa pajak49800000\n",
            "nominal bantuan yang diterima dengan pajak : 47592000.0\n"
          ]
        }
      ]
    },
    {
      "cell_type": "code",
      "source": [
        "path = '/content/drive/MyDrive/CSV/sapling30% - Sheet1.csv'\n",
        "df = pd.read_csv(path)\n",
        "df.describe()"
      ],
      "metadata": {
        "colab": {
          "base_uri": "https://localhost:8080/",
          "height": 300
        },
        "id": "JQH62HwgrXUq",
        "outputId": "418b5f8d-af1b-4f51-eb3c-42b0efb184a6"
      },
      "execution_count": null,
      "outputs": [
        {
          "output_type": "execute_result",
          "data": {
            "text/plain": [
              "             No.  Jumlah RW  Jumlah Kepala Keluarga  Rata2 Usia  Keluarga  \\\n",
              "count  15.000000  15.000000               15.000000             15.000000   \n",
              "mean   15.133333   9.466667               31.266667             37.906667   \n",
              "std     8.105260   4.033196               12.144762             10.863074   \n",
              "min     1.000000   4.000000               13.000000             24.900000   \n",
              "25%     9.500000   7.000000               22.500000             28.700000   \n",
              "50%    16.000000   9.000000               30.000000             36.400000   \n",
              "75%    20.500000  12.000000               37.500000             42.350000   \n",
              "max    28.000000  18.000000               58.000000             59.400000   \n",
              "\n",
              "       Nominal Bantuan  \n",
              "count        15.000000  \n",
              "mean        706.666667  \n",
              "std         103.279556  \n",
              "min         600.000000  \n",
              "25%         600.000000  \n",
              "50%         800.000000  \n",
              "75%         800.000000  \n",
              "max         800.000000  "
            ],
            "text/html": [
              "\n",
              "  <div id=\"df-e9c946fa-6637-44ef-80da-66a95bcc469b\">\n",
              "    <div class=\"colab-df-container\">\n",
              "      <div>\n",
              "<style scoped>\n",
              "    .dataframe tbody tr th:only-of-type {\n",
              "        vertical-align: middle;\n",
              "    }\n",
              "\n",
              "    .dataframe tbody tr th {\n",
              "        vertical-align: top;\n",
              "    }\n",
              "\n",
              "    .dataframe thead th {\n",
              "        text-align: right;\n",
              "    }\n",
              "</style>\n",
              "<table border=\"1\" class=\"dataframe\">\n",
              "  <thead>\n",
              "    <tr style=\"text-align: right;\">\n",
              "      <th></th>\n",
              "      <th>No.</th>\n",
              "      <th>Jumlah RW</th>\n",
              "      <th>Jumlah Kepala Keluarga</th>\n",
              "      <th>Rata2 Usia  Keluarga</th>\n",
              "      <th>Nominal Bantuan</th>\n",
              "    </tr>\n",
              "  </thead>\n",
              "  <tbody>\n",
              "    <tr>\n",
              "      <th>count</th>\n",
              "      <td>15.000000</td>\n",
              "      <td>15.000000</td>\n",
              "      <td>15.000000</td>\n",
              "      <td>15.000000</td>\n",
              "      <td>15.000000</td>\n",
              "    </tr>\n",
              "    <tr>\n",
              "      <th>mean</th>\n",
              "      <td>15.133333</td>\n",
              "      <td>9.466667</td>\n",
              "      <td>31.266667</td>\n",
              "      <td>37.906667</td>\n",
              "      <td>706.666667</td>\n",
              "    </tr>\n",
              "    <tr>\n",
              "      <th>std</th>\n",
              "      <td>8.105260</td>\n",
              "      <td>4.033196</td>\n",
              "      <td>12.144762</td>\n",
              "      <td>10.863074</td>\n",
              "      <td>103.279556</td>\n",
              "    </tr>\n",
              "    <tr>\n",
              "      <th>min</th>\n",
              "      <td>1.000000</td>\n",
              "      <td>4.000000</td>\n",
              "      <td>13.000000</td>\n",
              "      <td>24.900000</td>\n",
              "      <td>600.000000</td>\n",
              "    </tr>\n",
              "    <tr>\n",
              "      <th>25%</th>\n",
              "      <td>9.500000</td>\n",
              "      <td>7.000000</td>\n",
              "      <td>22.500000</td>\n",
              "      <td>28.700000</td>\n",
              "      <td>600.000000</td>\n",
              "    </tr>\n",
              "    <tr>\n",
              "      <th>50%</th>\n",
              "      <td>16.000000</td>\n",
              "      <td>9.000000</td>\n",
              "      <td>30.000000</td>\n",
              "      <td>36.400000</td>\n",
              "      <td>800.000000</td>\n",
              "    </tr>\n",
              "    <tr>\n",
              "      <th>75%</th>\n",
              "      <td>20.500000</td>\n",
              "      <td>12.000000</td>\n",
              "      <td>37.500000</td>\n",
              "      <td>42.350000</td>\n",
              "      <td>800.000000</td>\n",
              "    </tr>\n",
              "    <tr>\n",
              "      <th>max</th>\n",
              "      <td>28.000000</td>\n",
              "      <td>18.000000</td>\n",
              "      <td>58.000000</td>\n",
              "      <td>59.400000</td>\n",
              "      <td>800.000000</td>\n",
              "    </tr>\n",
              "  </tbody>\n",
              "</table>\n",
              "</div>\n",
              "      <button class=\"colab-df-convert\" onclick=\"convertToInteractive('df-e9c946fa-6637-44ef-80da-66a95bcc469b')\"\n",
              "              title=\"Convert this dataframe to an interactive table.\"\n",
              "              style=\"display:none;\">\n",
              "        \n",
              "  <svg xmlns=\"http://www.w3.org/2000/svg\" height=\"24px\"viewBox=\"0 0 24 24\"\n",
              "       width=\"24px\">\n",
              "    <path d=\"M0 0h24v24H0V0z\" fill=\"none\"/>\n",
              "    <path d=\"M18.56 5.44l.94 2.06.94-2.06 2.06-.94-2.06-.94-.94-2.06-.94 2.06-2.06.94zm-11 1L8.5 8.5l.94-2.06 2.06-.94-2.06-.94L8.5 2.5l-.94 2.06-2.06.94zm10 10l.94 2.06.94-2.06 2.06-.94-2.06-.94-.94-2.06-.94 2.06-2.06.94z\"/><path d=\"M17.41 7.96l-1.37-1.37c-.4-.4-.92-.59-1.43-.59-.52 0-1.04.2-1.43.59L10.3 9.45l-7.72 7.72c-.78.78-.78 2.05 0 2.83L4 21.41c.39.39.9.59 1.41.59.51 0 1.02-.2 1.41-.59l7.78-7.78 2.81-2.81c.8-.78.8-2.07 0-2.86zM5.41 20L4 18.59l7.72-7.72 1.47 1.35L5.41 20z\"/>\n",
              "  </svg>\n",
              "      </button>\n",
              "      \n",
              "  <style>\n",
              "    .colab-df-container {\n",
              "      display:flex;\n",
              "      flex-wrap:wrap;\n",
              "      gap: 12px;\n",
              "    }\n",
              "\n",
              "    .colab-df-convert {\n",
              "      background-color: #E8F0FE;\n",
              "      border: none;\n",
              "      border-radius: 50%;\n",
              "      cursor: pointer;\n",
              "      display: none;\n",
              "      fill: #1967D2;\n",
              "      height: 32px;\n",
              "      padding: 0 0 0 0;\n",
              "      width: 32px;\n",
              "    }\n",
              "\n",
              "    .colab-df-convert:hover {\n",
              "      background-color: #E2EBFA;\n",
              "      box-shadow: 0px 1px 2px rgba(60, 64, 67, 0.3), 0px 1px 3px 1px rgba(60, 64, 67, 0.15);\n",
              "      fill: #174EA6;\n",
              "    }\n",
              "\n",
              "    [theme=dark] .colab-df-convert {\n",
              "      background-color: #3B4455;\n",
              "      fill: #D2E3FC;\n",
              "    }\n",
              "\n",
              "    [theme=dark] .colab-df-convert:hover {\n",
              "      background-color: #434B5C;\n",
              "      box-shadow: 0px 1px 3px 1px rgba(0, 0, 0, 0.15);\n",
              "      filter: drop-shadow(0px 1px 2px rgba(0, 0, 0, 0.3));\n",
              "      fill: #FFFFFF;\n",
              "    }\n",
              "  </style>\n",
              "\n",
              "      <script>\n",
              "        const buttonEl =\n",
              "          document.querySelector('#df-e9c946fa-6637-44ef-80da-66a95bcc469b button.colab-df-convert');\n",
              "        buttonEl.style.display =\n",
              "          google.colab.kernel.accessAllowed ? 'block' : 'none';\n",
              "\n",
              "        async function convertToInteractive(key) {\n",
              "          const element = document.querySelector('#df-e9c946fa-6637-44ef-80da-66a95bcc469b');\n",
              "          const dataTable =\n",
              "            await google.colab.kernel.invokeFunction('convertToInteractive',\n",
              "                                                     [key], {});\n",
              "          if (!dataTable) return;\n",
              "\n",
              "          const docLinkHtml = 'Like what you see? Visit the ' +\n",
              "            '<a target=\"_blank\" href=https://colab.research.google.com/notebooks/data_table.ipynb>data table notebook</a>'\n",
              "            + ' to learn more about interactive tables.';\n",
              "          element.innerHTML = '';\n",
              "          dataTable['output_type'] = 'display_data';\n",
              "          await google.colab.output.renderOutput(dataTable, element);\n",
              "          const docLink = document.createElement('div');\n",
              "          docLink.innerHTML = docLinkHtml;\n",
              "          element.appendChild(docLink);\n",
              "        }\n",
              "      </script>\n",
              "    </div>\n",
              "  </div>\n",
              "  "
            ]
          },
          "metadata": {},
          "execution_count": 30
        }
      ]
    },
    {
      "cell_type": "code",
      "source": [
        "print(\"total jumlah RW\")\n",
        "df[df['Daerah']=='A']['Jumlah RW'].sum()"
      ],
      "metadata": {
        "colab": {
          "base_uri": "https://localhost:8080/"
        },
        "id": "qEaXaN4ZtvH_",
        "outputId": "edf341ec-4cbe-45d5-a256-fe2d3093b2b1"
      },
      "execution_count": 52,
      "outputs": [
        {
          "output_type": "stream",
          "name": "stdout",
          "text": [
            "total jumlah RW\n"
          ]
        },
        {
          "output_type": "execute_result",
          "data": {
            "text/plain": [
              "12"
            ]
          },
          "metadata": {},
          "execution_count": 52
        }
      ]
    },
    {
      "cell_type": "code",
      "source": [
        "print(\"total jumlah RW\")\n",
        "df[df['Daerah']=='B']['Jumlah RW'].sum()"
      ],
      "metadata": {
        "colab": {
          "base_uri": "https://localhost:8080/"
        },
        "id": "Q4RNmn8CuHFr",
        "outputId": "13e121be-e191-4b35-91cb-3becd4706627"
      },
      "execution_count": 53,
      "outputs": [
        {
          "output_type": "stream",
          "name": "stdout",
          "text": [
            "total jumlah RW\n"
          ]
        },
        {
          "output_type": "execute_result",
          "data": {
            "text/plain": [
              "30"
            ]
          },
          "metadata": {},
          "execution_count": 53
        }
      ]
    },
    {
      "cell_type": "code",
      "source": [
        "print(\"rata rata usia Rentang\")\n",
        "df['Rata2 Usia  Keluarga'].sum()/15"
      ],
      "metadata": {
        "colab": {
          "base_uri": "https://localhost:8080/"
        },
        "id": "hZeG7oRTuPHK",
        "outputId": "73428893-5cc7-4494-9cb2-e1bb0f57c063"
      },
      "execution_count": null,
      "outputs": [
        {
          "output_type": "stream",
          "name": "stdout",
          "text": [
            "rata rata usia kentang\n"
          ]
        },
        {
          "output_type": "execute_result",
          "data": {
            "text/plain": [
              "37.90666666666666"
            ]
          },
          "metadata": {},
          "execution_count": 43
        }
      ]
    },
    {
      "cell_type": "code",
      "source": [
        "nm = 600000 + 800000 + 600000 + 800000 + 800000 + 600000 + 800000 + 800000 + 800000 + 600000 + 600000 + 800000 + 600000 + 800000 + 600000\n",
        "print(\"Nominal bantuan tanpa pajak : \" + str(nm))\n",
        "p6 = 0.02 * (7 * 600000)\n",
        "p8 = 0.03 * (8 * 800000)\n",
        "nmp = p6 + p8\n",
        "nmph = nm - nmp\n",
        "print(\" Nominal bantaun dengan pajak : \" +str(nmph))\n",
        "\n"
      ],
      "metadata": {
        "colab": {
          "base_uri": "https://localhost:8080/"
        },
        "id": "K4172FCqvfUt",
        "outputId": "2b7b80e7-a5e5-4e7b-8998-ea8c22551600"
      },
      "execution_count": 66,
      "outputs": [
        {
          "output_type": "stream",
          "name": "stdout",
          "text": [
            "Nominal bantuan tanpa pajak : 10600000\n",
            " Nominal bantaun dengan pajak : 10324000.0\n"
          ]
        }
      ]
    },
    {
      "cell_type": "code",
      "source": [
        "print(\"total jumlah RW\")\n",
        "df[df['Daerah']=='A']['Jumlah RW'].sum()"
      ],
      "metadata": {
        "colab": {
          "base_uri": "https://localhost:8080/"
        },
        "id": "DC0p84w6cjl7",
        "outputId": "7cea8866-b7d6-4077-bfc6-0b0933bb6fa6"
      },
      "execution_count": 56,
      "outputs": [
        {
          "output_type": "stream",
          "name": "stdout",
          "text": [
            "total jumlah RW\n"
          ]
        },
        {
          "output_type": "execute_result",
          "data": {
            "text/plain": [
              "12"
            ]
          },
          "metadata": {},
          "execution_count": 56
        }
      ]
    },
    {
      "cell_type": "code",
      "source": [
        "print(\"total jumlah RW\")\n",
        "df[df['Daerah']=='B']['Jumlah RW'].sum()"
      ],
      "metadata": {
        "colab": {
          "base_uri": "https://localhost:8080/"
        },
        "id": "GdEBd8S7cosa",
        "outputId": "39a5eab6-48e9-4a07-8143-1ab743b223dc"
      },
      "execution_count": 58,
      "outputs": [
        {
          "output_type": "stream",
          "name": "stdout",
          "text": [
            "total jumlah RW\n"
          ]
        },
        {
          "output_type": "execute_result",
          "data": {
            "text/plain": [
              "30"
            ]
          },
          "metadata": {},
          "execution_count": 58
        }
      ]
    },
    {
      "cell_type": "code",
      "source": [
        "print(\"total jumlah RW\")\n",
        "df[df['Daerah']=='C']['Jumlah RW'].sum()"
      ],
      "metadata": {
        "colab": {
          "base_uri": "https://localhost:8080/"
        },
        "id": "51S9paSEcsy6",
        "outputId": "3d6db83f-b76e-4faf-859a-835c9bde209a"
      },
      "execution_count": 60,
      "outputs": [
        {
          "output_type": "stream",
          "name": "stdout",
          "text": [
            "total jumlah RW\n"
          ]
        },
        {
          "output_type": "execute_result",
          "data": {
            "text/plain": [
              "17"
            ]
          },
          "metadata": {},
          "execution_count": 60
        }
      ]
    },
    {
      "cell_type": "code",
      "source": [
        "print(\"total jumlah RW\")\n",
        "df[df['Daerah']=='D']['Jumlah RW'].sum()"
      ],
      "metadata": {
        "colab": {
          "base_uri": "https://localhost:8080/"
        },
        "id": "jip3brGicxmj",
        "outputId": "8e0b416e-45f7-40d3-9b08-96a984a1ef81"
      },
      "execution_count": 63,
      "outputs": [
        {
          "output_type": "stream",
          "name": "stdout",
          "text": [
            "total jumlah RW\n"
          ]
        },
        {
          "output_type": "execute_result",
          "data": {
            "text/plain": [
              "18"
            ]
          },
          "metadata": {},
          "execution_count": 63
        }
      ]
    },
    {
      "cell_type": "code",
      "source": [
        "print(\"total jumlah RW\")\n",
        "df[df['Daerah']=='E']['Jumlah RW'].sum()"
      ],
      "metadata": {
        "colab": {
          "base_uri": "https://localhost:8080/"
        },
        "id": "sgdFemfqc3IT",
        "outputId": "6fa672d1-15da-4adc-d2c7-a71ce99575ca"
      },
      "execution_count": 81,
      "outputs": [
        {
          "output_type": "stream",
          "name": "stdout",
          "text": [
            "total jumlah RW\n"
          ]
        },
        {
          "output_type": "execute_result",
          "data": {
            "text/plain": [
              "30"
            ]
          },
          "metadata": {},
          "execution_count": 81
        }
      ]
    },
    {
      "cell_type": "code",
      "source": [
        "print(\"total jumlah RW\")\n",
        "df[df['Daerah']=='F']['Jumlah RW'].sum()"
      ],
      "metadata": {
        "colab": {
          "base_uri": "https://localhost:8080/"
        },
        "id": "rsf5brFVdAbF",
        "outputId": "e979fd43-83cd-48c6-bc60-cd1d35f0fc43"
      },
      "execution_count": 89,
      "outputs": [
        {
          "output_type": "stream",
          "name": "stdout",
          "text": [
            "total jumlah RW\n"
          ]
        },
        {
          "output_type": "execute_result",
          "data": {
            "text/plain": [
              "35"
            ]
          },
          "metadata": {},
          "execution_count": 89
        }
      ]
    },
    {
      "cell_type": "code",
      "source": [
        "print(\"total jumlah KK\")\n",
        "df[df['Daerah']=='A']['Jumlah Kepala Keluarga'].sum()"
      ],
      "metadata": {
        "colab": {
          "base_uri": "https://localhost:8080/"
        },
        "id": "W4vekqUAeJ4m",
        "outputId": "40e67907-fea5-40cd-cc23-652186325448"
      },
      "execution_count": 72,
      "outputs": [
        {
          "output_type": "stream",
          "name": "stdout",
          "text": [
            "total jumlah KK\n"
          ]
        },
        {
          "output_type": "execute_result",
          "data": {
            "text/plain": [
              "78"
            ]
          },
          "metadata": {},
          "execution_count": 72
        }
      ]
    },
    {
      "cell_type": "code",
      "source": [
        "print(\"total jumlah KK\")\n",
        "df[df['Daerah']=='B']['Jumlah Kepala Keluarga'].sum()"
      ],
      "metadata": {
        "colab": {
          "base_uri": "https://localhost:8080/"
        },
        "id": "AHAPXi6HeYNJ",
        "outputId": "694ced17-5482-404c-8373-0ee90aa6a9b4"
      },
      "execution_count": 74,
      "outputs": [
        {
          "output_type": "stream",
          "name": "stdout",
          "text": [
            "total jumlah KK\n"
          ]
        },
        {
          "output_type": "execute_result",
          "data": {
            "text/plain": [
              "99"
            ]
          },
          "metadata": {},
          "execution_count": 74
        }
      ]
    },
    {
      "cell_type": "code",
      "source": [
        "print(\"total jumlah KK\")\n",
        "df[df['Daerah']=='C']['Jumlah Kepala Keluarga'].sum()"
      ],
      "metadata": {
        "colab": {
          "base_uri": "https://localhost:8080/"
        },
        "id": "cwI7N1nOebAx",
        "outputId": "7c700325-cc4f-45d2-db79-3cab3aa09048"
      },
      "execution_count": 76,
      "outputs": [
        {
          "output_type": "stream",
          "name": "stdout",
          "text": [
            "total jumlah KK\n"
          ]
        },
        {
          "output_type": "execute_result",
          "data": {
            "text/plain": [
              "102"
            ]
          },
          "metadata": {},
          "execution_count": 76
        }
      ]
    },
    {
      "cell_type": "code",
      "source": [
        "print(\"total jumlah KK\")\n",
        "df[df['Daerah']=='D']['Jumlah Kepala Keluarga'].sum()"
      ],
      "metadata": {
        "colab": {
          "base_uri": "https://localhost:8080/"
        },
        "id": "RQAPf2Dbedq5",
        "outputId": "96a4f2c1-d8bb-4ac0-b907-0a50e7725e0b"
      },
      "execution_count": 77,
      "outputs": [
        {
          "output_type": "stream",
          "name": "stdout",
          "text": [
            "total jumlah KK\n"
          ]
        },
        {
          "output_type": "execute_result",
          "data": {
            "text/plain": [
              "28"
            ]
          },
          "metadata": {},
          "execution_count": 77
        }
      ]
    },
    {
      "cell_type": "code",
      "source": [
        "print(\"total jumlah KK\")\n",
        "df[df['Daerah']=='E']['Jumlah Kepala Keluarga'].sum()"
      ],
      "metadata": {
        "colab": {
          "base_uri": "https://localhost:8080/"
        },
        "id": "IfhFrz4befVJ",
        "outputId": "b8529768-deb7-4e69-92cf-eb5e1c02b0d1"
      },
      "execution_count": 79,
      "outputs": [
        {
          "output_type": "stream",
          "name": "stdout",
          "text": [
            "total jumlah KK\n"
          ]
        },
        {
          "output_type": "execute_result",
          "data": {
            "text/plain": [
              "80"
            ]
          },
          "metadata": {},
          "execution_count": 79
        }
      ]
    },
    {
      "cell_type": "code",
      "source": [
        "print(\"total jumlah KK\")\n",
        "df[df['Daerah']=='F']['Jumlah Kepala Keluarga'].sum()"
      ],
      "metadata": {
        "colab": {
          "base_uri": "https://localhost:8080/"
        },
        "id": "8cSP07eyekaK",
        "outputId": "e2f9c6c4-aba4-4b32-f25a-27ec3d2ac96e"
      },
      "execution_count": 83,
      "outputs": [
        {
          "output_type": "stream",
          "name": "stdout",
          "text": [
            "total jumlah KK\n"
          ]
        },
        {
          "output_type": "execute_result",
          "data": {
            "text/plain": [
              "82"
            ]
          },
          "metadata": {},
          "execution_count": 83
        }
      ]
    },
    {
      "cell_type": "code",
      "source": [
        "print(\"total jumlah RW\")\n",
        "df[df['Daerah']=='F']['Jumlah RW'].sum()\n"
      ],
      "metadata": {
        "colab": {
          "base_uri": "https://localhost:8080/"
        },
        "id": "Etoi_tXhfK0_",
        "outputId": "da7d5f39-3522-4681-fb5e-feb1b3d68648"
      },
      "execution_count": 85,
      "outputs": [
        {
          "output_type": "stream",
          "name": "stdout",
          "text": [
            "total jumlah RW\n"
          ]
        },
        {
          "output_type": "execute_result",
          "data": {
            "text/plain": [
              "35"
            ]
          },
          "metadata": {},
          "execution_count": 85
        }
      ]
    },
    {
      "cell_type": "code",
      "source": [
        "\n",
        "print(\"===visuasisasi data=====\")\n",
        "fig = plt.figure()\n",
        "ax = fig.add_axes([0,0,1,1])\n",
        "indeks = ['A', 'B', 'C', 'D', 'E','F']\n",
        "jumlah = [78, 99, 102, 28, 80, 82]\n",
        "c = ['green', 'red', 'yellow', 'purple', 'grey']\n",
        "plt.title(\"Data  adalah \")\n",
        "plt.xlabel(\"perusahaan\")\n",
        "plt.ylabel(\"nilai\")\n",
        "plt.bar(indeks, jumlah, color = c)\n",
        "plt.grid(True)\n",
        "plt.show\n",
        "\n",
        "import matplotlib.pyplot as plt\n",
        "fig = plt.figure()\n",
        "ax = fig.add_axes([0,0,1,1])\n",
        "ax.axis('equal')\n",
        "plt.title(\"Data KK adalah \")\n",
        "nama =['A', 'B', 'C', 'D', 'E','F']\n",
        "jml = [78, 99, 102, 28, 80, 82]\n",
        "ax.pie(jml,labels=nama,autopct='%1.2f%%')\n",
        "plt.show()\n",
        "\n",
        "\n",
        "print(\"===visuasisasi data=====\")\n",
        "fig = plt.figure()\n",
        "ax = fig.add_axes([0,0,1,1])\n",
        "indeks = ['A', 'B', 'C', 'D', 'E']\n",
        "jumlah = [12, 30, 17, 18, 30]\n",
        "c = ['green', 'red', 'yellow', 'purple', 'grey']\n",
        "plt.title(\"Data RW adalah \")\n",
        "plt.xlabel(\"perusahaan\")\n",
        "plt.ylabel(\"nilai\")\n",
        "plt.bar(indeks, jumlah, color = c)\n",
        "plt.grid(True)\n",
        "plt.show\n",
        "\n",
        "import matplotlib.pyplot as plt\n",
        "fig = plt.figure()\n",
        "ax = fig.add_axes([0,0,1,1])\n",
        "ax.axis('equal')\n",
        "plt.title(\"Data RW adalah \")\n",
        "nama =['A', 'B', 'C', 'D', 'E']\n",
        "jml = [12, 30, 17, 18, 30]\n",
        "ax.pie(jml,labels=nama,autopct='%1.2f%%')\n",
        "plt.show()\n",
        "\n",
        "print(\"===visuasisasi data=====\")\n",
        "fig = plt.figure()\n",
        "ax = fig.add_axes([0,0,1,1])\n",
        "indeks = ['Tanpa Pajak', 'Dengan Pajak']\n",
        "jumlah = [10600000, 10324000.0,]\n",
        "c = ['orange', 'blue']\n",
        "plt.title(\"Data RW adalah \")\n",
        "plt.xlabel(\"perusahaan\")\n",
        "plt.ylabel(\"nilai\")\n",
        "plt.bar(indeks, jumlah, color = c)\n",
        "plt.grid(True)\n",
        "plt.show\n",
        "\n",
        "import matplotlib.pyplot as plt\n",
        "fig = plt.figure()\n",
        "ax = fig.add_axes([0,0,1,1])\n",
        "ax.axis('equal')\n",
        "plt.title(\"Data RW adalah \")\n",
        "nama =['Tanpa Pajak', 'Dengan Pajak']\n",
        "jml = [10600000, 10324000.0,]\n",
        "ax.pie(jml,labels=nama,autopct='%1.2f%%')\n",
        "plt.show()"
      ],
      "metadata": {
        "colab": {
          "base_uri": "https://localhost:8080/",
          "height": 1000
        },
        "id": "j7V5GERUfQHC",
        "outputId": "400f4b12-34fd-4ffa-8f23-f46b7a218d9a"
      },
      "execution_count": 93,
      "outputs": [
        {
          "output_type": "stream",
          "name": "stdout",
          "text": [
            "===visuasisasi data=====\n"
          ]
        },
        {
          "output_type": "display_data",
          "data": {
            "text/plain": [
              "<Figure size 432x288 with 1 Axes>"
            ],
            "image/png": "[encoded data removed]"
          },
          "metadata": {
            "needs_background": "light"
          }
        },
        {
          "output_type": "display_data",
          "data": {
            "text/plain": [
              "<Figure size 432x288 with 1 Axes>"
            ],
            "image/png": "[encoded data removed]"
          },
          "metadata": {}
        },
        {
          "output_type": "stream",
          "name": "stdout",
          "text": [
            "===visuasisasi data=====\n"
          ]
        },
        {
          "output_type": "display_data",
          "data": {
            "text/plain": [
              "<Figure size 432x288 with 1 Axes>"
            ],
            "image/png": "[encoded data removed]"
          },
          "metadata": {
            "needs_background": "light"
          }
        },
        {
          "output_type": "display_data",
          "data": {
            "text/plain": [
              "<Figure size 432x288 with 1 Axes>"
            ],
            "image/png": "[encoded data removed]"
          },
          "metadata": {}
        },
        {
          "output_type": "stream",
          "name": "stdout",
          "text": [
            "===visuasisasi data=====\n"
          ]
        },
        {
          "output_type": "display_data",
          "data": {
            "text/plain": [
              "<Figure size 432x288 with 1 Axes>"
            ],
            "image/png": "[encoded data removed]"
          },
          "metadata": {
            "needs_background": "light"
          }
        },
        {
          "output_type": "display_data",
          "data": {
            "text/plain": [
              "<Figure size 432x288 with 1 Axes>"
            ],
            "image/png": "[encoded data removed]"
          },
          "metadata": {}
        }
      ]
    }
  ]
}